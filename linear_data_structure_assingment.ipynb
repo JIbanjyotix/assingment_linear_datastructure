{
 "cells": [
  {
   "cell_type": "code",
   "execution_count": 1,
   "metadata": {},
   "outputs": [
    {
     "name": "stdout",
     "output_type": "stream",
     "text": [
      "array= [5, 2, 3, 4, 1, 6, 7]\n",
      "pairs whose sum is: 7\n",
      "5 2\n",
      "3 4\n",
      "1 6\n"
     ]
    }
   ],
   "source": [
    "# Q1\n",
    "def find(array,len,summ):\n",
    "    print(\"pairs whose sum is:\", summ)\n",
    "    for i in range(len):\n",
    "        for j in range(i,len):\n",
    "            if (array[i] + array[j]) == summ:\n",
    "                print(array[i],array[j])\n",
    "array =[5,2,3,4,1,6,7]\n",
    "summ=7\n",
    "print(\"array=\",array)\n",
    "find(array,len(array),summ)\n"
   ]
  },
  {
   "cell_type": "code",
   "execution_count": 2,
   "metadata": {},
   "outputs": [
    {
     "name": "stdout",
     "output_type": "stream",
     "text": [
      "[50, 40, 30, 20, 10]\n"
     ]
    }
   ],
   "source": [
    "# Q2\n",
    "def reverselist(A,start,end):\n",
    "    while start< end:\n",
    "        A[start], A[end]= A[end],A[start]\n",
    "        start +=1\n",
    "        end-=1\n",
    "A = [10,20,30,40,50]\n",
    "reverselist(A,0,4)\n",
    "print(A)"
   ]
  },
  {
   "cell_type": "code",
   "execution_count": 3,
   "metadata": {},
   "outputs": [
    {
     "name": "stdout",
     "output_type": "stream",
     "text": [
      "strings are rotations\n"
     ]
    }
   ],
   "source": [
    "# Q3\n",
    "def areRotations(string1, string2):\n",
    "    size1 =len(string1)\n",
    "    size2 =len(string2)\n",
    "    temp=''\n",
    "\n",
    "    if size1 != size2:\n",
    "        return 0\n",
    "    temp =string1 + string1\n",
    "    if (temp.count(string2)>0):\n",
    "        return 1\n",
    "    else:\n",
    "        return 0\n",
    "\n",
    "string1=\"AACD\"\n",
    "string2=\"ACDA\"\n",
    "if areRotations(string1,string2):\n",
    "    print(\"strings are rotations\")\n",
    "else:\n",
    "    print(\"strings are not in rotations\")"
   ]
  },
  {
   "cell_type": "code",
   "execution_count": 5,
   "metadata": {},
   "outputs": [
    {
     "name": "stdout",
     "output_type": "stream",
     "text": [
      "no unique character found\n",
      "first non repeating character is:  h\n"
     ]
    }
   ],
   "source": [
    "# Q4\n",
    "string=\"thisisit\"\n",
    "\n",
    "while string!=\"\":\n",
    "    slen0=len(string)\n",
    "    ch=string[0]\n",
    "    string=string.replace(ch,\"\")\n",
    "    slen1=len(string)\n",
    "    if slen1==slen0-1:\n",
    "        print(\"first non repeating character is: \",ch)\n",
    "        break\n",
    "    else:\n",
    "        print(\"no unique character found\")"
   ]
  },
  {
   "cell_type": "code",
   "execution_count": 6,
   "metadata": {},
   "outputs": [
    {
     "name": "stdout",
     "output_type": "stream",
     "text": [
      "move disk 1 from source A to destination C\n",
      "move disk 2 from source A to destination B\n",
      "move disk 1 from source C to destination B\n",
      "move disk 3 from source A to destination C\n",
      "move disk 1 from source B to destination A\n",
      "move disk 2 from source B to destination C\n",
      "move disk 1 from source A to destination C\n",
      "move disk 4 from source A to destination B\n",
      "move disk 1 from source C to destination B\n",
      "move disk 2 from source C to destination A\n",
      "move disk 1 from source B to destination A\n",
      "move disk 3 from source C to destination B\n",
      "move disk 1 from source A to destination C\n",
      "move disk 2 from source A to destination B\n",
      "move disk 1 from source C to destination B\n"
     ]
    }
   ],
   "source": [
    "# Q5\n",
    "def towerofhanoi(n,source,destination,auxiliary):\n",
    "    if n==1:\n",
    "        print(\"move disk 1 from source\",source,\"to destination\",destination)\n",
    "        return\n",
    "    towerofhanoi(n-1,source,auxiliary,destination)\n",
    "    print(\"move disk\",n,\"from source\",source,\"to destination\",destination)\n",
    "    towerofhanoi(n-1,auxiliary,destination,source)\n",
    "n=4\n",
    "towerofhanoi(n,'A','B','C')"
   ]
  },
  {
   "cell_type": "code",
   "execution_count": 8,
   "metadata": {},
   "outputs": [
    {
     "name": "stdout",
     "output_type": "stream",
     "text": [
      "prefix : +AB-CD\n"
     ]
    }
   ],
   "source": [
    "# Q6\n",
    "def isOperator(x):\n",
    "    if x==\"+\":\n",
    "        return True\n",
    "    if x==\"-\":\n",
    "        return True\n",
    "    if x==\"/\":\n",
    "        return True\n",
    "    if x==\"*\":\n",
    "        return True\n",
    "    return False\n",
    "\n",
    "def postToPre(post_exp):\n",
    "    s=[]\n",
    "\n",
    "    length =len(post_exp)\n",
    "\n",
    "    for i in range(length):\n",
    "        if(isOperator(post_exp[i])):\n",
    "            op1=s [-1]\n",
    "            s.pop()\n",
    "            op2=s [-1]\n",
    "            s.pop()\n",
    "\n",
    "            temp = post_exp[i]+ op2+op1\n",
    "            s.append(temp)\n",
    "        else:\n",
    "            s.append(post_exp[i])\n",
    "\n",
    "    ans=\"\"\n",
    "    for i in s:\n",
    "        ans +=i\n",
    "    return ans\n",
    "if __name__ ==\"__main__\":\n",
    "    post_exp=\"AB+CD-\"\n",
    "    print(\"prefix :\",postToPre(post_exp))"
   ]
  },
  {
   "cell_type": "code",
   "execution_count": 9,
   "metadata": {},
   "outputs": [
    {
     "name": "stdout",
     "output_type": "stream",
     "text": [
      "((A-(B/C))*((A/K)-L))\n"
     ]
    }
   ],
   "source": [
    "# Q7\n",
    "\n",
    "def prefixToInfix(prefix):\n",
    "    stack =[]\n",
    "\n",
    "    i=len(prefix)-1\n",
    "    while i >=0:\n",
    "        if not isOperator(prefix[i]):\n",
    "            stack.append(prefix[i])\n",
    "            i -=1\n",
    "        else:\n",
    "            str=\"(\" + stack.pop() + prefix[i] +stack.pop() +\")\"\n",
    "            stack.append(str)\n",
    "            i-=1\n",
    "    return stack.pop()\n",
    "def isOperator(c):\n",
    "    if c ==\"*\" or c==\"+\" or c ==\"-\" or c ==\"/\" or c ==\"^\" or c ==\"(\" or c==\")\" :\n",
    "        return True\n",
    "    else:\n",
    "        return False\n",
    "if __name__==\"__main__\":\n",
    "    str =\"*-A/BC-/AKL\"\n",
    "    print(prefixToInfix(str))\n"
   ]
  },
  {
   "cell_type": "code",
   "execution_count": 10,
   "metadata": {},
   "outputs": [
    {
     "name": "stdout",
     "output_type": "stream",
     "text": [
      "Balanced\n"
     ]
    }
   ],
   "source": [
    "# Q8\n",
    "def areBracketsBalanced(expr):\n",
    "    stack =[]\n",
    "    for char in expr:\n",
    "        if char in [\"(\",\"{\",\"[\"]:\n",
    "            stack.append(char)\n",
    "        else:\n",
    "\n",
    "            if not stack:\n",
    "                return False\n",
    "            current_char =stack.pop()\n",
    "            if current_char =='(':\n",
    "                if char !=\")\":\n",
    "                    return False\n",
    "                if current_char =='{':\n",
    "                    if char !=\"}\":\n",
    "                        return False\n",
    "                if current_char =='[':\n",
    "                    if char !=\"]\":\n",
    "                        return False\n",
    "    if stack:\n",
    "        return False\n",
    "    return True\n",
    "\n",
    "if __name__ ==\"__main__\":\n",
    "    expr =\"{()}[]\"\n",
    "\n",
    "    if areBracketsBalanced(expr):\n",
    "        print(\"Balanced\")\n",
    "    else:\n",
    "        print(\"Not balanced\")\n",
    "\n"
   ]
  },
  {
   "cell_type": "code",
   "execution_count": 13,
   "metadata": {},
   "outputs": [
    {
     "name": "stdout",
     "output_type": "stream",
     "text": [
      "Original Stack\n",
      "5\n",
      "4\n",
      "3\n",
      "2\n",
      "1\n",
      "Stack after Reversing\n"
     ]
    },
    {
     "ename": "AttributeError",
     "evalue": "'Stack' object has no attribute 'popped'",
     "output_type": "error",
     "traceback": [
      "\u001b[1;31m---------------------------------------------------------------------------\u001b[0m",
      "\u001b[1;31mAttributeError\u001b[0m                            Traceback (most recent call last)",
      "Cell \u001b[1;32mIn [13], line 40\u001b[0m\n\u001b[0;32m     38\u001b[0m stk\u001b[39m.\u001b[39mshow()\n\u001b[0;32m     39\u001b[0m \u001b[39mprint\u001b[39m(\u001b[39m\"\u001b[39m\u001b[39mStack after Reversing\u001b[39m\u001b[39m\"\u001b[39m)\n\u001b[1;32m---> 40\u001b[0m Reverse(stk)\n\u001b[0;32m     41\u001b[0m stk\u001b[39m.\u001b[39mshow()\n",
      "Cell \u001b[1;32mIn [13], line 28\u001b[0m, in \u001b[0;36mReverse\u001b[1;34m(s)\u001b[0m\n\u001b[0;32m     26\u001b[0m \u001b[39melse\u001b[39;00m:\n\u001b[0;32m     27\u001b[0m     popped\u001b[39m=\u001b[39ms\u001b[39m.\u001b[39mpop()\n\u001b[1;32m---> 28\u001b[0m     Reverse(s)\n\u001b[0;32m     29\u001b[0m     BottomInsert(s\u001b[39m.\u001b[39mpopped)\n",
      "Cell \u001b[1;32mIn [13], line 28\u001b[0m, in \u001b[0;36mReverse\u001b[1;34m(s)\u001b[0m\n\u001b[0;32m     26\u001b[0m \u001b[39melse\u001b[39;00m:\n\u001b[0;32m     27\u001b[0m     popped\u001b[39m=\u001b[39ms\u001b[39m.\u001b[39mpop()\n\u001b[1;32m---> 28\u001b[0m     Reverse(s)\n\u001b[0;32m     29\u001b[0m     BottomInsert(s\u001b[39m.\u001b[39mpopped)\n",
      "    \u001b[1;31m[... skipping similar frames: Reverse at line 28 (1 times)]\u001b[0m\n",
      "Cell \u001b[1;32mIn [13], line 28\u001b[0m, in \u001b[0;36mReverse\u001b[1;34m(s)\u001b[0m\n\u001b[0;32m     26\u001b[0m \u001b[39melse\u001b[39;00m:\n\u001b[0;32m     27\u001b[0m     popped\u001b[39m=\u001b[39ms\u001b[39m.\u001b[39mpop()\n\u001b[1;32m---> 28\u001b[0m     Reverse(s)\n\u001b[0;32m     29\u001b[0m     BottomInsert(s\u001b[39m.\u001b[39mpopped)\n",
      "Cell \u001b[1;32mIn [13], line 29\u001b[0m, in \u001b[0;36mReverse\u001b[1;34m(s)\u001b[0m\n\u001b[0;32m     27\u001b[0m popped\u001b[39m=\u001b[39ms\u001b[39m.\u001b[39mpop()\n\u001b[0;32m     28\u001b[0m Reverse(s)\n\u001b[1;32m---> 29\u001b[0m BottomInsert(s\u001b[39m.\u001b[39;49mpopped)\n",
      "\u001b[1;31mAttributeError\u001b[0m: 'Stack' object has no attribute 'popped'"
     ]
    }
   ],
   "source": [
    "# Q9\n",
    "\n",
    "class Stack:\n",
    "    def __init__(self):\n",
    "        self.Elements=[]\n",
    "    def push(self,value):\n",
    "        self.Elements.append(value)\n",
    "    def pop(self):\n",
    "        return self.Elements.pop()\n",
    "    def empty(self):\n",
    "        return self.Elements==[]\n",
    "    def show(self):\n",
    "        for value in reversed(self.Elements):\n",
    "            print(value)\n",
    "\n",
    "def BottomInsert(s,value):\n",
    "    if s.empty():\n",
    "        s.push(value)\n",
    "    else:\n",
    "        popped = s.pop()\n",
    "        BottomInsert(s,value)\n",
    "        s.push(popped)\n",
    "def Reverse(s):\n",
    "    if s.empty():\n",
    "        pass\n",
    "    else:\n",
    "        popped=s.pop()\n",
    "        Reverse(s)\n",
    "        BottomInsert(s.popped)\n",
    "stk=Stack()\n",
    "stk.push(1)\n",
    "stk.push(2)\n",
    "stk.push(3)\n",
    "stk.push(4)\n",
    "stk.push(5)\n",
    "\n",
    "print(\"Original Stack\")\n",
    "stk.show()\n",
    "print(\"Stack after Reversing\")\n",
    "Reverse(stk)\n",
    "stk.show()\n",
    "\n"
   ]
  },
  {
   "cell_type": "code",
   "execution_count": 14,
   "metadata": {},
   "outputs": [
    {
     "name": "stdout",
     "output_type": "stream",
     "text": [
      "1\n"
     ]
    }
   ],
   "source": [
    "# Q10\n",
    "list=[20,10,20,1,100]\n",
    "a,i=min((a,i) for (i,a) in enumerate(list))\n",
    "print(a)"
   ]
  }
 ],
 "metadata": {
  "kernelspec": {
   "display_name": "Python 3.10.7 64-bit",
   "language": "python",
   "name": "python3"
  },
  "language_info": {
   "codemirror_mode": {
    "name": "ipython",
    "version": 3
   },
   "file_extension": ".py",
   "mimetype": "text/x-python",
   "name": "python",
   "nbconvert_exporter": "python",
   "pygments_lexer": "ipython3",
   "version": "3.10.7"
  },
  "orig_nbformat": 4,
  "vscode": {
   "interpreter": {
    "hash": "0d72b21489300652f2337cd7f80c57cc00ce6bbc92cf98d285c178d0a8ced433"
   }
  }
 },
 "nbformat": 4,
 "nbformat_minor": 2
}
